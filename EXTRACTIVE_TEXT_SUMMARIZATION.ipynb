{
  "nbformat": 4,
  "nbformat_minor": 0,
  "metadata": {
    "colab": {
      "provenance": [],
      "authorship_tag": "ABX9TyOkIUvBYD8NIIKnBSJxKhln",
      "include_colab_link": true
    },
    "kernelspec": {
      "name": "python3",
      "display_name": "Python 3"
    },
    "language_info": {
      "name": "python"
    }
  },
  "cells": [
    {
      "cell_type": "markdown",
      "metadata": {
        "id": "view-in-github",
        "colab_type": "text"
      },
      "source": [
        "<a href=\"https://colab.research.google.com/github/YD140/Extractive-Text-Summarization/blob/main/EXTRACTIVE_TEXT_SUMMARIZATION.ipynb\" target=\"_parent\"><img src=\"https://colab.research.google.com/assets/colab-badge.svg\" alt=\"Open In Colab\"/></a>"
      ]
    },
    {
      "cell_type": "markdown",
      "source": [
        "# **Extractive Summarization is a method of generating a summary by selecting important sentences from the original text based on statistical and semantic approaches without altering the original meaning.**"
      ],
      "metadata": {
        "id": "ERMgVSepZ9Tg"
      }
    },
    {
      "cell_type": "markdown",
      "source": [
        "# **Importing Libraries**"
      ],
      "metadata": {
        "id": "6SAJI1D7ZUXm"
      }
    },
    {
      "cell_type": "code",
      "execution_count": 106,
      "metadata": {
        "id": "Pv2uXnenUqEt",
        "colab": {
          "base_uri": "https://localhost:8080/"
        },
        "outputId": "b9937692-7876-404c-a0f3-a332fb62855a"
      },
      "outputs": [
        {
          "output_type": "stream",
          "name": "stderr",
          "text": [
            "[nltk_data] Downloading package punkt to /root/nltk_data...\n",
            "[nltk_data]   Package punkt is already up-to-date!\n",
            "[nltk_data] Downloading package stopwords to /root/nltk_data...\n",
            "[nltk_data]   Package stopwords is already up-to-date!\n"
          ]
        }
      ],
      "source": [
        "import nltk\n",
        "nltk.download('punkt')\n",
        "nltk.download('stopwords')\n",
        "import numpy as np\n",
        "import re\n",
        "import heapq\n"
      ]
    },
    {
      "cell_type": "markdown",
      "source": [
        "# **Data Pre-Processing**"
      ],
      "metadata": {
        "id": "Hrs-lo07Zkg6"
      }
    },
    {
      "cell_type": "code",
      "source": [
        "article_text = \"\"\"\n",
        "Maria Sharapova has basically no friends as tennis players on the WTA Tour. The Russian player has no problems in openly speaking about it and in a recent interview she said: ‘I don’t really hide any feelings too much.\n",
        "I think everyone knows this is my job here. When I’m on the courts or when I’m on the court playing, I’m a competitor and I want to beat every single person whether they’re in the locker room or across the net.\n",
        "So I’m not the one to strike up a conversation about the weather and know that in the next few minutes I have to go and try to win a tennis match.\n",
        "I’m a pretty competitive girl. I say my hellos, but I’m not sending any players flowers as well. Uhm, I’m not really friendly or close to many players.\n",
        "I have not a lot of friends away from the courts.’ When she said she is not really close to a lot of players, is that something strategic that she is doing? Is it different on the men’s tour than the women’s tour? ‘No, not at all.\n",
        "I think just because you’re in the same sport doesn’t mean that you have to be friends with everyone just because you’re categorized, you’re a tennis player, so you’re going to get along with tennis players.\n",
        "I think every person has different interests. I have friends that have completely different jobs and interests, and I’ve met them in very different parts of my life.\n",
        "I think everyone just thinks because we’re tennis players we should be the greatest of friends. But ultimately tennis is just a very small part of what we do.\n",
        "There are so many other things that we’re interested in, that we do.’\n",
        "\"\"\""
      ],
      "metadata": {
        "id": "RSGxBH6pXV7J"
      },
      "execution_count": 91,
      "outputs": []
    },
    {
      "cell_type": "code",
      "execution_count": 92,
      "metadata": {
        "id": "95c976e9"
      },
      "outputs": [],
      "source": [
        "#CONVERT CORPUS TO SENTENCES\n",
        "def split_to_sentences(article_text):\n",
        "\n",
        "    sentences = article_text.split('\\n')\n",
        "\n",
        "#REMOVE EXTRA SPACE\n",
        "    sentences = [s.strip() for s in sentences]  #strip can only apply on string not list\n",
        "\n",
        "#DROP EMPTY SENTENCE\n",
        "    sentences = [s for s in sentences if len(s) > 0] # remove empty string ('')\n",
        "\n",
        "    return sentences"
      ]
    },
    {
      "cell_type": "code",
      "source": [
        "split_to_sentences(article_text)"
      ],
      "metadata": {
        "colab": {
          "base_uri": "https://localhost:8080/"
        },
        "id": "64fg4Yp8UzZ8",
        "outputId": "aeca029b-67a7-4d6d-f235-a977c747126c"
      },
      "execution_count": 93,
      "outputs": [
        {
          "output_type": "execute_result",
          "data": {
            "text/plain": [
              "['Maria Sharapova has basically no friends as tennis players on the WTA Tour. The Russian player has no problems in openly speaking about it and in a recent interview she said: ‘I don’t really hide any feelings too much.',\n",
              " 'I think everyone knows this is my job here. When I’m on the courts or when I’m on the court playing, I’m a competitor and I want to beat every single person whether they’re in the locker room or across the net.',\n",
              " 'So I’m not the one to strike up a conversation about the weather and know that in the next few minutes I have to go and try to win a tennis match.',\n",
              " 'I’m a pretty competitive girl. I say my hellos, but I’m not sending any players flowers as well. Uhm, I’m not really friendly or close to many players.',\n",
              " 'I have not a lot of friends away from the courts.’ When she said she is not really close to a lot of players, is that something strategic that she is doing? Is it different on the men’s tour than the women’s tour? ‘No, not at all.',\n",
              " 'I think just because you’re in the same sport doesn’t mean that you have to be friends with everyone just because you’re categorized, you’re a tennis player, so you’re going to get along with tennis players.',\n",
              " 'I think every person has different interests. I have friends that have completely different jobs and interests, and I’ve met them in very different parts of my life.',\n",
              " 'I think everyone just thinks because we’re tennis players we should be the greatest of friends. But ultimately tennis is just a very small part of what we do.',\n",
              " 'There are so many other things that we’re interested in, that we do.’']"
            ]
          },
          "metadata": {},
          "execution_count": 93
        }
      ]
    },
    {
      "cell_type": "code",
      "source": [
        "# testing our code\n",
        "x = \" I like to play cricket.\\nI also like to watch it.\\nI an a big fan of cricket. \"\n",
        "print(x)\n",
        "\n",
        "split_to_sentences(x)"
      ],
      "metadata": {
        "colab": {
          "base_uri": "https://localhost:8080/"
        },
        "id": "dk-ve_YXWT-0",
        "outputId": "063330ce-1c46-47ca-ec78-7f74ba1d2f99"
      },
      "execution_count": 94,
      "outputs": [
        {
          "output_type": "stream",
          "name": "stdout",
          "text": [
            " I like to play cricket.\n",
            "I also like to watch it.\n",
            "I an a big fan of cricket. \n"
          ]
        },
        {
          "output_type": "execute_result",
          "data": {
            "text/plain": [
              "['I like to play cricket.',\n",
              " 'I also like to watch it.',\n",
              " 'I an a big fan of cricket.']"
            ]
          },
          "metadata": {},
          "execution_count": 94
        }
      ]
    },
    {
      "cell_type": "markdown",
      "source": [
        "# **Tokenization**"
      ],
      "metadata": {
        "id": "ekrdQ1xEaZ_F"
      }
    },
    {
      "cell_type": "code",
      "source": [
        "#Tokenization\n",
        "\n",
        "def tokenize_sentences(sentences):\n",
        "\n",
        "# Now we create an empty list an give name as tokenized_sentences\n",
        "    tokenized_sentences = []  #This list is the lists of tokens\n",
        "\n",
        "    for sentence in sentences: # This will iterate over each sentences\n",
        "\n",
        "        sentence = sentence.lower() #now we convert our text into lowercase\n",
        "\n",
        "        tokenized = nltk.word_tokenize(sentence) #now we apply tokenization on sentences\n",
        "\n",
        "#Now we append the list of words into an empty list which we created in starting\n",
        "        tokenized_sentences.append(tokenized)\n",
        "\n",
        "\n",
        "    return tokenized_sentences"
      ],
      "metadata": {
        "id": "5nACTSrrdTGo"
      },
      "execution_count": 95,
      "outputs": []
    },
    {
      "cell_type": "code",
      "source": [
        "tokenize_sentences(split_to_sentences(article_text))"
      ],
      "metadata": {
        "colab": {
          "base_uri": "https://localhost:8080/"
        },
        "id": "hmnNz_4jd1LJ",
        "outputId": "139b585a-0e59-44b9-d092-4a315c8a727c"
      },
      "execution_count": 96,
      "outputs": [
        {
          "output_type": "execute_result",
          "data": {
            "text/plain": [
              "[['maria',\n",
              "  'sharapova',\n",
              "  'has',\n",
              "  'basically',\n",
              "  'no',\n",
              "  'friends',\n",
              "  'as',\n",
              "  'tennis',\n",
              "  'players',\n",
              "  'on',\n",
              "  'the',\n",
              "  'wta',\n",
              "  'tour',\n",
              "  '.',\n",
              "  'the',\n",
              "  'russian',\n",
              "  'player',\n",
              "  'has',\n",
              "  'no',\n",
              "  'problems',\n",
              "  'in',\n",
              "  'openly',\n",
              "  'speaking',\n",
              "  'about',\n",
              "  'it',\n",
              "  'and',\n",
              "  'in',\n",
              "  'a',\n",
              "  'recent',\n",
              "  'interview',\n",
              "  'she',\n",
              "  'said',\n",
              "  ':',\n",
              "  '‘',\n",
              "  'i',\n",
              "  'don',\n",
              "  '’',\n",
              "  't',\n",
              "  'really',\n",
              "  'hide',\n",
              "  'any',\n",
              "  'feelings',\n",
              "  'too',\n",
              "  'much',\n",
              "  '.'],\n",
              " ['i',\n",
              "  'think',\n",
              "  'everyone',\n",
              "  'knows',\n",
              "  'this',\n",
              "  'is',\n",
              "  'my',\n",
              "  'job',\n",
              "  'here',\n",
              "  '.',\n",
              "  'when',\n",
              "  'i',\n",
              "  '’',\n",
              "  'm',\n",
              "  'on',\n",
              "  'the',\n",
              "  'courts',\n",
              "  'or',\n",
              "  'when',\n",
              "  'i',\n",
              "  '’',\n",
              "  'm',\n",
              "  'on',\n",
              "  'the',\n",
              "  'court',\n",
              "  'playing',\n",
              "  ',',\n",
              "  'i',\n",
              "  '’',\n",
              "  'm',\n",
              "  'a',\n",
              "  'competitor',\n",
              "  'and',\n",
              "  'i',\n",
              "  'want',\n",
              "  'to',\n",
              "  'beat',\n",
              "  'every',\n",
              "  'single',\n",
              "  'person',\n",
              "  'whether',\n",
              "  'they',\n",
              "  '’',\n",
              "  're',\n",
              "  'in',\n",
              "  'the',\n",
              "  'locker',\n",
              "  'room',\n",
              "  'or',\n",
              "  'across',\n",
              "  'the',\n",
              "  'net',\n",
              "  '.'],\n",
              " ['so',\n",
              "  'i',\n",
              "  '’',\n",
              "  'm',\n",
              "  'not',\n",
              "  'the',\n",
              "  'one',\n",
              "  'to',\n",
              "  'strike',\n",
              "  'up',\n",
              "  'a',\n",
              "  'conversation',\n",
              "  'about',\n",
              "  'the',\n",
              "  'weather',\n",
              "  'and',\n",
              "  'know',\n",
              "  'that',\n",
              "  'in',\n",
              "  'the',\n",
              "  'next',\n",
              "  'few',\n",
              "  'minutes',\n",
              "  'i',\n",
              "  'have',\n",
              "  'to',\n",
              "  'go',\n",
              "  'and',\n",
              "  'try',\n",
              "  'to',\n",
              "  'win',\n",
              "  'a',\n",
              "  'tennis',\n",
              "  'match',\n",
              "  '.'],\n",
              " ['i',\n",
              "  '’',\n",
              "  'm',\n",
              "  'a',\n",
              "  'pretty',\n",
              "  'competitive',\n",
              "  'girl',\n",
              "  '.',\n",
              "  'i',\n",
              "  'say',\n",
              "  'my',\n",
              "  'hellos',\n",
              "  ',',\n",
              "  'but',\n",
              "  'i',\n",
              "  '’',\n",
              "  'm',\n",
              "  'not',\n",
              "  'sending',\n",
              "  'any',\n",
              "  'players',\n",
              "  'flowers',\n",
              "  'as',\n",
              "  'well',\n",
              "  '.',\n",
              "  'uhm',\n",
              "  ',',\n",
              "  'i',\n",
              "  '’',\n",
              "  'm',\n",
              "  'not',\n",
              "  'really',\n",
              "  'friendly',\n",
              "  'or',\n",
              "  'close',\n",
              "  'to',\n",
              "  'many',\n",
              "  'players',\n",
              "  '.'],\n",
              " ['i',\n",
              "  'have',\n",
              "  'not',\n",
              "  'a',\n",
              "  'lot',\n",
              "  'of',\n",
              "  'friends',\n",
              "  'away',\n",
              "  'from',\n",
              "  'the',\n",
              "  'courts.',\n",
              "  '’',\n",
              "  'when',\n",
              "  'she',\n",
              "  'said',\n",
              "  'she',\n",
              "  'is',\n",
              "  'not',\n",
              "  'really',\n",
              "  'close',\n",
              "  'to',\n",
              "  'a',\n",
              "  'lot',\n",
              "  'of',\n",
              "  'players',\n",
              "  ',',\n",
              "  'is',\n",
              "  'that',\n",
              "  'something',\n",
              "  'strategic',\n",
              "  'that',\n",
              "  'she',\n",
              "  'is',\n",
              "  'doing',\n",
              "  '?',\n",
              "  'is',\n",
              "  'it',\n",
              "  'different',\n",
              "  'on',\n",
              "  'the',\n",
              "  'men',\n",
              "  '’',\n",
              "  's',\n",
              "  'tour',\n",
              "  'than',\n",
              "  'the',\n",
              "  'women',\n",
              "  '’',\n",
              "  's',\n",
              "  'tour',\n",
              "  '?',\n",
              "  '‘',\n",
              "  'no',\n",
              "  ',',\n",
              "  'not',\n",
              "  'at',\n",
              "  'all',\n",
              "  '.'],\n",
              " ['i',\n",
              "  'think',\n",
              "  'just',\n",
              "  'because',\n",
              "  'you',\n",
              "  '’',\n",
              "  're',\n",
              "  'in',\n",
              "  'the',\n",
              "  'same',\n",
              "  'sport',\n",
              "  'doesn',\n",
              "  '’',\n",
              "  't',\n",
              "  'mean',\n",
              "  'that',\n",
              "  'you',\n",
              "  'have',\n",
              "  'to',\n",
              "  'be',\n",
              "  'friends',\n",
              "  'with',\n",
              "  'everyone',\n",
              "  'just',\n",
              "  'because',\n",
              "  'you',\n",
              "  '’',\n",
              "  're',\n",
              "  'categorized',\n",
              "  ',',\n",
              "  'you',\n",
              "  '’',\n",
              "  're',\n",
              "  'a',\n",
              "  'tennis',\n",
              "  'player',\n",
              "  ',',\n",
              "  'so',\n",
              "  'you',\n",
              "  '’',\n",
              "  're',\n",
              "  'going',\n",
              "  'to',\n",
              "  'get',\n",
              "  'along',\n",
              "  'with',\n",
              "  'tennis',\n",
              "  'players',\n",
              "  '.'],\n",
              " ['i',\n",
              "  'think',\n",
              "  'every',\n",
              "  'person',\n",
              "  'has',\n",
              "  'different',\n",
              "  'interests',\n",
              "  '.',\n",
              "  'i',\n",
              "  'have',\n",
              "  'friends',\n",
              "  'that',\n",
              "  'have',\n",
              "  'completely',\n",
              "  'different',\n",
              "  'jobs',\n",
              "  'and',\n",
              "  'interests',\n",
              "  ',',\n",
              "  'and',\n",
              "  'i',\n",
              "  '’',\n",
              "  've',\n",
              "  'met',\n",
              "  'them',\n",
              "  'in',\n",
              "  'very',\n",
              "  'different',\n",
              "  'parts',\n",
              "  'of',\n",
              "  'my',\n",
              "  'life',\n",
              "  '.'],\n",
              " ['i',\n",
              "  'think',\n",
              "  'everyone',\n",
              "  'just',\n",
              "  'thinks',\n",
              "  'because',\n",
              "  'we',\n",
              "  '’',\n",
              "  're',\n",
              "  'tennis',\n",
              "  'players',\n",
              "  'we',\n",
              "  'should',\n",
              "  'be',\n",
              "  'the',\n",
              "  'greatest',\n",
              "  'of',\n",
              "  'friends',\n",
              "  '.',\n",
              "  'but',\n",
              "  'ultimately',\n",
              "  'tennis',\n",
              "  'is',\n",
              "  'just',\n",
              "  'a',\n",
              "  'very',\n",
              "  'small',\n",
              "  'part',\n",
              "  'of',\n",
              "  'what',\n",
              "  'we',\n",
              "  'do',\n",
              "  '.'],\n",
              " ['there',\n",
              "  'are',\n",
              "  'so',\n",
              "  'many',\n",
              "  'other',\n",
              "  'things',\n",
              "  'that',\n",
              "  'we',\n",
              "  '’',\n",
              "  're',\n",
              "  'interested',\n",
              "  'in',\n",
              "  ',',\n",
              "  'that',\n",
              "  'we',\n",
              "  'do',\n",
              "  '.',\n",
              "  '’']]"
            ]
          },
          "metadata": {},
          "execution_count": 96
        }
      ]
    },
    {
      "cell_type": "code",
      "source": [
        "#testing our code\n",
        "x = \"I like to play cricket.\\nI also like $ to watch it.\\nI an a big &/ fan of cricket. \"\n",
        "print(x)\n",
        "\n",
        "tokenize_sentences(split_to_sentences(x))"
      ],
      "metadata": {
        "colab": {
          "base_uri": "https://localhost:8080/"
        },
        "id": "3bUXqqJlexZH",
        "outputId": "e28da350-1e87-4fc8-c637-917bdb9c7b28"
      },
      "execution_count": 97,
      "outputs": [
        {
          "output_type": "stream",
          "name": "stdout",
          "text": [
            "I like to play cricket.\n",
            "I also like $ to watch it.\n",
            "I an a big &/ fan of cricket. \n"
          ]
        },
        {
          "output_type": "execute_result",
          "data": {
            "text/plain": [
              "[['i', 'like', 'to', 'play', 'cricket', '.'],\n",
              " ['i', 'also', 'like', '$', 'to', 'watch', 'it', '.'],\n",
              " ['i', 'an', 'a', 'big', '&', '/', 'fan', 'of', 'cricket', '.']]"
            ]
          },
          "metadata": {},
          "execution_count": 97
        }
      ]
    },
    {
      "cell_type": "markdown",
      "source": [
        "# **Count Word Frequency**"
      ],
      "metadata": {
        "id": "ZMCfZ-GYallD"
      }
    },
    {
      "cell_type": "code",
      "source": [
        "def count_words(tokenized_sentences):\n",
        "\n",
        "    word_counts = {} #get output in a key-value pair\n",
        "\n",
        "    for sentence in tokenized_sentences:\n",
        "\n",
        "# Now we are go through each token in the sentence\n",
        "        for token in sentence:\n",
        "            if token not in word_counts.keys():\n",
        "                word_counts[token] = 1\n",
        "            else:\n",
        "                word_counts[token] += 1\n",
        "\n",
        "    return word_counts"
      ],
      "metadata": {
        "id": "DSsC3MfQfLBY"
      },
      "execution_count": 98,
      "outputs": []
    },
    {
      "cell_type": "code",
      "source": [
        "word_counts = count_words(tokenize_sentences(split_to_sentences(article_text)))\n",
        "word_counts"
      ],
      "metadata": {
        "colab": {
          "base_uri": "https://localhost:8080/"
        },
        "id": "bfLQGOcsDPK9",
        "outputId": "b22c4034-f24e-41a9-ae95-3018f6b35813"
      },
      "execution_count": 99,
      "outputs": [
        {
          "output_type": "execute_result",
          "data": {
            "text/plain": [
              "{'maria': 1,\n",
              " 'sharapova': 1,\n",
              " 'has': 3,\n",
              " 'basically': 1,\n",
              " 'no': 3,\n",
              " 'friends': 5,\n",
              " 'as': 2,\n",
              " 'tennis': 6,\n",
              " 'players': 6,\n",
              " 'on': 4,\n",
              " 'the': 14,\n",
              " 'wta': 1,\n",
              " 'tour': 3,\n",
              " '.': 15,\n",
              " 'russian': 1,\n",
              " 'player': 2,\n",
              " 'problems': 1,\n",
              " 'in': 7,\n",
              " 'openly': 1,\n",
              " 'speaking': 1,\n",
              " 'about': 2,\n",
              " 'it': 2,\n",
              " 'and': 6,\n",
              " 'a': 9,\n",
              " 'recent': 1,\n",
              " 'interview': 1,\n",
              " 'she': 4,\n",
              " 'said': 2,\n",
              " ':': 1,\n",
              " '‘': 2,\n",
              " 'i': 18,\n",
              " 'don': 1,\n",
              " '’': 21,\n",
              " 't': 2,\n",
              " 'really': 3,\n",
              " 'hide': 1,\n",
              " 'any': 2,\n",
              " 'feelings': 1,\n",
              " 'too': 1,\n",
              " 'much': 1,\n",
              " 'think': 4,\n",
              " 'everyone': 3,\n",
              " 'knows': 1,\n",
              " 'this': 1,\n",
              " 'is': 6,\n",
              " 'my': 3,\n",
              " 'job': 1,\n",
              " 'here': 1,\n",
              " 'when': 3,\n",
              " 'm': 7,\n",
              " 'courts': 1,\n",
              " 'or': 3,\n",
              " 'court': 1,\n",
              " 'playing': 1,\n",
              " ',': 9,\n",
              " 'competitor': 1,\n",
              " 'want': 1,\n",
              " 'to': 8,\n",
              " 'beat': 1,\n",
              " 'every': 2,\n",
              " 'single': 1,\n",
              " 'person': 2,\n",
              " 'whether': 1,\n",
              " 'they': 1,\n",
              " 're': 7,\n",
              " 'locker': 1,\n",
              " 'room': 1,\n",
              " 'across': 1,\n",
              " 'net': 1,\n",
              " 'so': 3,\n",
              " 'not': 6,\n",
              " 'one': 1,\n",
              " 'strike': 1,\n",
              " 'up': 1,\n",
              " 'conversation': 1,\n",
              " 'weather': 1,\n",
              " 'know': 1,\n",
              " 'that': 7,\n",
              " 'next': 1,\n",
              " 'few': 1,\n",
              " 'minutes': 1,\n",
              " 'have': 5,\n",
              " 'go': 1,\n",
              " 'try': 1,\n",
              " 'win': 1,\n",
              " 'match': 1,\n",
              " 'pretty': 1,\n",
              " 'competitive': 1,\n",
              " 'girl': 1,\n",
              " 'say': 1,\n",
              " 'hellos': 1,\n",
              " 'but': 2,\n",
              " 'sending': 1,\n",
              " 'flowers': 1,\n",
              " 'well': 1,\n",
              " 'uhm': 1,\n",
              " 'friendly': 1,\n",
              " 'close': 2,\n",
              " 'many': 2,\n",
              " 'lot': 2,\n",
              " 'of': 5,\n",
              " 'away': 1,\n",
              " 'from': 1,\n",
              " 'courts.': 1,\n",
              " 'something': 1,\n",
              " 'strategic': 1,\n",
              " 'doing': 1,\n",
              " '?': 2,\n",
              " 'different': 4,\n",
              " 'men': 1,\n",
              " 's': 2,\n",
              " 'than': 1,\n",
              " 'women': 1,\n",
              " 'at': 1,\n",
              " 'all': 1,\n",
              " 'just': 4,\n",
              " 'because': 3,\n",
              " 'you': 5,\n",
              " 'same': 1,\n",
              " 'sport': 1,\n",
              " 'doesn': 1,\n",
              " 'mean': 1,\n",
              " 'be': 2,\n",
              " 'with': 2,\n",
              " 'categorized': 1,\n",
              " 'going': 1,\n",
              " 'get': 1,\n",
              " 'along': 1,\n",
              " 'interests': 2,\n",
              " 'completely': 1,\n",
              " 'jobs': 1,\n",
              " 've': 1,\n",
              " 'met': 1,\n",
              " 'them': 1,\n",
              " 'very': 2,\n",
              " 'parts': 1,\n",
              " 'life': 1,\n",
              " 'thinks': 1,\n",
              " 'we': 5,\n",
              " 'should': 1,\n",
              " 'greatest': 1,\n",
              " 'ultimately': 1,\n",
              " 'small': 1,\n",
              " 'part': 1,\n",
              " 'what': 1,\n",
              " 'do': 2,\n",
              " 'there': 1,\n",
              " 'are': 1,\n",
              " 'other': 1,\n",
              " 'things': 1,\n",
              " 'interested': 1}"
            ]
          },
          "metadata": {},
          "execution_count": 99
        }
      ]
    },
    {
      "cell_type": "code",
      "source": [
        "#Replacing weighted Frequencies\n",
        "maximum_frequncy = max(word_counts.values())\n",
        "\n",
        "for word in word_counts.keys():\n",
        "    word_counts[word] = (word_counts[word]/maximum_frequncy) # we divided each and every word frequency with max_frequency to normalize word frequency"
      ],
      "metadata": {
        "id": "2xKSsLbfZKs4"
      },
      "execution_count": 100,
      "outputs": []
    },
    {
      "cell_type": "markdown",
      "source": [
        "**In above step we divided each frequency with the maximum frequency to normalize the frequency of each word.**"
      ],
      "metadata": {
        "id": "XlBtBAcMwY3P"
      }
    },
    {
      "cell_type": "markdown",
      "source": [
        "**Consistency:** Different texts may have different word counts, so normalizing ensures a consistent scale.  \n",
        "**Relative Importance:** Normalized frequencies allow us to see how frequently a word appears relative to the most frequent word, rather than just its raw count.  \n",
        "**Input for Algorithms**: Some machine learning models (like summarization models) may work better with normalized or scaled values rather than raw counts."
      ],
      "metadata": {
        "id": "dgjTLOs0wOHg"
      }
    },
    {
      "cell_type": "code",
      "source": [
        "word_counts"
      ],
      "metadata": {
        "id": "JszZXFOTZMd5",
        "colab": {
          "base_uri": "https://localhost:8080/"
        },
        "outputId": "8a3df115-e7ff-427d-8aa0-0731d0c6d141"
      },
      "execution_count": 101,
      "outputs": [
        {
          "output_type": "execute_result",
          "data": {
            "text/plain": [
              "{'maria': 0.047619047619047616,\n",
              " 'sharapova': 0.047619047619047616,\n",
              " 'has': 0.14285714285714285,\n",
              " 'basically': 0.047619047619047616,\n",
              " 'no': 0.14285714285714285,\n",
              " 'friends': 0.23809523809523808,\n",
              " 'as': 0.09523809523809523,\n",
              " 'tennis': 0.2857142857142857,\n",
              " 'players': 0.2857142857142857,\n",
              " 'on': 0.19047619047619047,\n",
              " 'the': 0.6666666666666666,\n",
              " 'wta': 0.047619047619047616,\n",
              " 'tour': 0.14285714285714285,\n",
              " '.': 0.7142857142857143,\n",
              " 'russian': 0.047619047619047616,\n",
              " 'player': 0.09523809523809523,\n",
              " 'problems': 0.047619047619047616,\n",
              " 'in': 0.3333333333333333,\n",
              " 'openly': 0.047619047619047616,\n",
              " 'speaking': 0.047619047619047616,\n",
              " 'about': 0.09523809523809523,\n",
              " 'it': 0.09523809523809523,\n",
              " 'and': 0.2857142857142857,\n",
              " 'a': 0.42857142857142855,\n",
              " 'recent': 0.047619047619047616,\n",
              " 'interview': 0.047619047619047616,\n",
              " 'she': 0.19047619047619047,\n",
              " 'said': 0.09523809523809523,\n",
              " ':': 0.047619047619047616,\n",
              " '‘': 0.09523809523809523,\n",
              " 'i': 0.8571428571428571,\n",
              " 'don': 0.047619047619047616,\n",
              " '’': 1.0,\n",
              " 't': 0.09523809523809523,\n",
              " 'really': 0.14285714285714285,\n",
              " 'hide': 0.047619047619047616,\n",
              " 'any': 0.09523809523809523,\n",
              " 'feelings': 0.047619047619047616,\n",
              " 'too': 0.047619047619047616,\n",
              " 'much': 0.047619047619047616,\n",
              " 'think': 0.19047619047619047,\n",
              " 'everyone': 0.14285714285714285,\n",
              " 'knows': 0.047619047619047616,\n",
              " 'this': 0.047619047619047616,\n",
              " 'is': 0.2857142857142857,\n",
              " 'my': 0.14285714285714285,\n",
              " 'job': 0.047619047619047616,\n",
              " 'here': 0.047619047619047616,\n",
              " 'when': 0.14285714285714285,\n",
              " 'm': 0.3333333333333333,\n",
              " 'courts': 0.047619047619047616,\n",
              " 'or': 0.14285714285714285,\n",
              " 'court': 0.047619047619047616,\n",
              " 'playing': 0.047619047619047616,\n",
              " ',': 0.42857142857142855,\n",
              " 'competitor': 0.047619047619047616,\n",
              " 'want': 0.047619047619047616,\n",
              " 'to': 0.38095238095238093,\n",
              " 'beat': 0.047619047619047616,\n",
              " 'every': 0.09523809523809523,\n",
              " 'single': 0.047619047619047616,\n",
              " 'person': 0.09523809523809523,\n",
              " 'whether': 0.047619047619047616,\n",
              " 'they': 0.047619047619047616,\n",
              " 're': 0.3333333333333333,\n",
              " 'locker': 0.047619047619047616,\n",
              " 'room': 0.047619047619047616,\n",
              " 'across': 0.047619047619047616,\n",
              " 'net': 0.047619047619047616,\n",
              " 'so': 0.14285714285714285,\n",
              " 'not': 0.2857142857142857,\n",
              " 'one': 0.047619047619047616,\n",
              " 'strike': 0.047619047619047616,\n",
              " 'up': 0.047619047619047616,\n",
              " 'conversation': 0.047619047619047616,\n",
              " 'weather': 0.047619047619047616,\n",
              " 'know': 0.047619047619047616,\n",
              " 'that': 0.3333333333333333,\n",
              " 'next': 0.047619047619047616,\n",
              " 'few': 0.047619047619047616,\n",
              " 'minutes': 0.047619047619047616,\n",
              " 'have': 0.23809523809523808,\n",
              " 'go': 0.047619047619047616,\n",
              " 'try': 0.047619047619047616,\n",
              " 'win': 0.047619047619047616,\n",
              " 'match': 0.047619047619047616,\n",
              " 'pretty': 0.047619047619047616,\n",
              " 'competitive': 0.047619047619047616,\n",
              " 'girl': 0.047619047619047616,\n",
              " 'say': 0.047619047619047616,\n",
              " 'hellos': 0.047619047619047616,\n",
              " 'but': 0.09523809523809523,\n",
              " 'sending': 0.047619047619047616,\n",
              " 'flowers': 0.047619047619047616,\n",
              " 'well': 0.047619047619047616,\n",
              " 'uhm': 0.047619047619047616,\n",
              " 'friendly': 0.047619047619047616,\n",
              " 'close': 0.09523809523809523,\n",
              " 'many': 0.09523809523809523,\n",
              " 'lot': 0.09523809523809523,\n",
              " 'of': 0.23809523809523808,\n",
              " 'away': 0.047619047619047616,\n",
              " 'from': 0.047619047619047616,\n",
              " 'courts.': 0.047619047619047616,\n",
              " 'something': 0.047619047619047616,\n",
              " 'strategic': 0.047619047619047616,\n",
              " 'doing': 0.047619047619047616,\n",
              " '?': 0.09523809523809523,\n",
              " 'different': 0.19047619047619047,\n",
              " 'men': 0.047619047619047616,\n",
              " 's': 0.09523809523809523,\n",
              " 'than': 0.047619047619047616,\n",
              " 'women': 0.047619047619047616,\n",
              " 'at': 0.047619047619047616,\n",
              " 'all': 0.047619047619047616,\n",
              " 'just': 0.19047619047619047,\n",
              " 'because': 0.14285714285714285,\n",
              " 'you': 0.23809523809523808,\n",
              " 'same': 0.047619047619047616,\n",
              " 'sport': 0.047619047619047616,\n",
              " 'doesn': 0.047619047619047616,\n",
              " 'mean': 0.047619047619047616,\n",
              " 'be': 0.09523809523809523,\n",
              " 'with': 0.09523809523809523,\n",
              " 'categorized': 0.047619047619047616,\n",
              " 'going': 0.047619047619047616,\n",
              " 'get': 0.047619047619047616,\n",
              " 'along': 0.047619047619047616,\n",
              " 'interests': 0.09523809523809523,\n",
              " 'completely': 0.047619047619047616,\n",
              " 'jobs': 0.047619047619047616,\n",
              " 've': 0.047619047619047616,\n",
              " 'met': 0.047619047619047616,\n",
              " 'them': 0.047619047619047616,\n",
              " 'very': 0.09523809523809523,\n",
              " 'parts': 0.047619047619047616,\n",
              " 'life': 0.047619047619047616,\n",
              " 'thinks': 0.047619047619047616,\n",
              " 'we': 0.23809523809523808,\n",
              " 'should': 0.047619047619047616,\n",
              " 'greatest': 0.047619047619047616,\n",
              " 'ultimately': 0.047619047619047616,\n",
              " 'small': 0.047619047619047616,\n",
              " 'part': 0.047619047619047616,\n",
              " 'what': 0.047619047619047616,\n",
              " 'do': 0.09523809523809523,\n",
              " 'there': 0.047619047619047616,\n",
              " 'are': 0.047619047619047616,\n",
              " 'other': 0.047619047619047616,\n",
              " 'things': 0.047619047619047616,\n",
              " 'interested': 0.047619047619047616}"
            ]
          },
          "metadata": {},
          "execution_count": 101
        }
      ]
    },
    {
      "cell_type": "markdown",
      "source": [
        "# **Sentence Score**"
      ],
      "metadata": {
        "id": "vMdI5IHNawYv"
      }
    },
    {
      "cell_type": "code",
      "source": [
        "#Assigning Sentence Score\n",
        "\n",
        "sentence_scores = {}\n",
        "for sent in split_to_sentences(article_text):\n",
        "    for word in nltk.word_tokenize(sent.lower()): #firstly the word converted into lowercase and then it will be tokenized\n",
        "        if word in word_counts.keys():            # if word is present in word count the word is consider as a key and its frequency is consider as value\n",
        "          if len(sent.split(' ')) < 30:           # check the length of sentences if it is less than 30 then and only than we should take it\n",
        "\n",
        "# If the above condition for the sentences is satisfied then and only then we move to the next step.\n",
        "\n",
        "              if sent not in sentence_scores.keys():\n",
        "                    sentence_scores[sent] = word_counts[word]\n",
        "              else:\n",
        "                    sentence_scores[sent] += word_counts[word]"
      ],
      "metadata": {
        "id": "7iaTks0CZVhF"
      },
      "execution_count": 102,
      "outputs": []
    },
    {
      "cell_type": "code",
      "source": [
        "sentence_scores"
      ],
      "metadata": {
        "colab": {
          "base_uri": "https://localhost:8080/"
        },
        "id": "rnNRfLXew7EX",
        "outputId": "ca06aa3f-e9c7-42ef-dde8-8b9eebd2e066"
      },
      "execution_count": 103,
      "outputs": [
        {
          "output_type": "execute_result",
          "data": {
            "text/plain": [
              "{'I’m a pretty competitive girl. I say my hellos, but I’m not sending any players flowers as well. Uhm, I’m not really friendly or close to many players.': 13.76190476190476,\n",
              " 'I think every person has different interests. I have friends that have completely different jobs and interests, and I’ve met them in very different parts of my life.': 9.476190476190471,\n",
              " 'I think everyone just thinks because we’re tennis players we should be the greatest of friends. But ultimately tennis is just a very small part of what we do.': 8.857142857142854,\n",
              " 'There are so many other things that we’re interested in, that we do.’': 5.523809523809524}"
            ]
          },
          "metadata": {},
          "execution_count": 103
        }
      ]
    },
    {
      "cell_type": "markdown",
      "source": [
        "# **Generate Summary**"
      ],
      "metadata": {
        "id": "6aZtaG-Ia3Zy"
      }
    },
    {
      "cell_type": "code",
      "source": [
        "summary_sentences = heapq.nlargest(10, sentence_scores, key=sentence_scores.get)\n",
        "\n",
        "summary = ' ' .join(summary_sentences)\n",
        "summary"
      ],
      "metadata": {
        "id": "xnsWwTJrZXLl",
        "colab": {
          "base_uri": "https://localhost:8080/",
          "height": 71
        },
        "outputId": "a6c66837-f308-4ca6-84cb-a4c7f9ddc539"
      },
      "execution_count": 105,
      "outputs": [
        {
          "output_type": "execute_result",
          "data": {
            "text/plain": [
              "'I’m a pretty competitive girl. I say my hellos, but I’m not sending any players flowers as well. Uhm, I’m not really friendly or close to many players. I think every person has different interests. I have friends that have completely different jobs and interests, and I’ve met them in very different parts of my life. I think everyone just thinks because we’re tennis players we should be the greatest of friends. But ultimately tennis is just a very small part of what we do. There are so many other things that we’re interested in, that we do.’'"
            ],
            "application/vnd.google.colaboratory.intrinsic+json": {
              "type": "string"
            }
          },
          "metadata": {},
          "execution_count": 105
        }
      ]
    }
  ]
}